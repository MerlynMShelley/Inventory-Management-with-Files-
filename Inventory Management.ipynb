{
 "cells": [
  {
   "cell_type": "markdown",
   "id": "a07c9ccd-815f-423e-aa65-d1a847fb3bd2",
   "metadata": {
    "tags": []
   },
   "source": [
    "## Create new inventory for a retail store with the product details"
   ]
  },
  {
   "cell_type": "code",
   "execution_count": 1,
   "id": "617c8063-bc59-4fca-92f6-267c7345df5a",
   "metadata": {
    "tags": []
   },
   "outputs": [],
   "source": [
    "fd = open('Inventory.txt', 'w')\n",
    "\n",
    "fd.close()"
   ]
  },
  {
   "cell_type": "markdown",
   "id": "c8d96294-8c80-42d3-9ef7-c168b59709b7",
   "metadata": {
    "tags": []
   },
   "source": [
    "##Product Details\n",
    "1. Product ID\n",
    "2. Name of the Product\n",
    "3. Price\n",
    "4. Quantity"
   ]
  },
  {
   "cell_type": "markdown",
   "id": "f1ef6cc0-ef93-4358-9288-a34f3e37324b",
   "metadata": {},
   "source": [
    "## Write data into the text file that was created locally"
   ]
  },
  {
   "cell_type": "code",
   "execution_count": 5,
   "id": "1fc895d1-9322-4207-ac5a-b73a92be1fca",
   "metadata": {
    "tags": []
   },
   "outputs": [],
   "source": [
    "fd = open('Inventory.txt', 'w')\n",
    "fd.write(\"1,treat,20,100\\n2,munch,10,150\\n3,perk,15,200\\n4,gems,30,150\")\n",
    "fd.close()"
   ]
  },
  {
   "cell_type": "code",
   "execution_count": 11,
   "id": "ed555814-98a3-4e91-80d0-c7eeb525ffd8",
   "metadata": {
    "tags": []
   },
   "outputs": [
    {
     "name": "stdout",
     "output_type": "stream",
     "text": [
      "['1,treat,20,100', '2,munch,10,150', '3,perk,15,200', '4,gems,30,150']\n"
     ]
    }
   ],
   "source": [
    "fd = open('Inventory.txt', 'r')\n",
    "products = fd.read().split('\\n')\n",
    "print(products)"
   ]
  },
  {
   "cell_type": "code",
   "execution_count": 15,
   "id": "97588135-44e3-43d4-9608-169a14b211fe",
   "metadata": {
    "tags": []
   },
   "outputs": [
    {
     "name": "stdout",
     "output_type": "stream",
     "text": [
      "1,treat,20,100\n",
      "2,munch,10,150\n",
      "3,perk,15,200\n",
      "4,gems,30,150\n"
     ]
    }
   ],
   "source": [
    "for i in products:\n",
    "    print (i)"
   ]
  },
  {
   "cell_type": "code",
   "execution_count": 21,
   "id": "792a104c-9d37-401e-a08e-3f3462aa2eb6",
   "metadata": {
    "tags": []
   },
   "outputs": [
    {
     "name": "stdin",
     "output_type": "stream",
     "text": [
      "Enter the Product ID:  2\n"
     ]
    },
    {
     "name": "stdout",
     "output_type": "stream",
     "text": [
      "2,munch,10,150\n"
     ]
    }
   ],
   "source": [
    "ui_prod_id = input(\"Enter the Product ID: \")\n",
    "\n",
    "for product in products:\n",
    "    if (product.split(',')[0] == ui_prod_id):\n",
    "        print(product)"
   ]
  },
  {
   "cell_type": "markdown",
   "id": "06db6ec3-4ad9-49ee-b09a-3440721d77b0",
   "metadata": {},
   "source": [
    "## Generating a Bill for the Product Purchased"
   ]
  },
  {
   "cell_type": "code",
   "execution_count": 58,
   "id": "973a31ee-80cf-4151-bf90-8cc7a657c9e5",
   "metadata": {
    "tags": []
   },
   "outputs": [
    {
     "name": "stdin",
     "output_type": "stream",
     "text": [
      "Enter the Product ID:  3\n",
      "Enter the Product Quantity:  3\n"
     ]
    },
    {
     "name": "stdout",
     "output_type": "stream",
     "text": [
      "--------------------------------------\n",
      "Product Name       : perk\n",
      "Product Price      : 15\n",
      "Product Quantity   : 3\n",
      "--------------------------------------\n",
      "Bill Amount        : 45\n",
      "--------------------------------------\n"
     ]
    }
   ],
   "source": [
    "ui_prod_id = input(\"Enter the Product ID: \")\n",
    "ui_prod_qn = input(\"Enter the Product Quantity: \")\n",
    "\n",
    "updated_product_lst = []\n",
    "\n",
    "for product in products:\n",
    "    prod_details = product.split(',')\n",
    "    \n",
    "    if (prod_details[0] == ui_prod_id):\n",
    "        print(\"--------------------------------------\")\n",
    "        print(\"Product Name       :\", prod_details[1])\n",
    "        print(\"Product Price      :\", prod_details[2])\n",
    "        print(\"Product Quantity   :\", ui_prod_qn)\n",
    "        print(\"--------------------------------------\")\n",
    "        print(\"Bill Amount        :\", (int(ui_prod_qn) * int(prod_details[2])))\n",
    "        print(\"--------------------------------------\")\n",
    "        \n",
    "        prod_details[3] = str(int(prod_details[3]) - int(ui_prod_qn))\n",
    "        \n",
    "    updated_product_lst.append(prod_details)\n",
    "        "
   ]
  },
  {
   "cell_type": "code",
   "execution_count": 50,
   "id": "ce83aae7-6b2e-4506-ad1e-690336bcb8bd",
   "metadata": {
    "tags": []
   },
   "outputs": [
    {
     "name": "stdout",
     "output_type": "stream",
     "text": [
      "1,treat,20,100\n",
      "2,munch,10,150\n",
      "3,perk,15,200\n",
      "4,gems,30,150\n"
     ]
    }
   ],
   "source": [
    "for i in products:\n",
    "    print (i)"
   ]
  },
  {
   "cell_type": "code",
   "execution_count": 52,
   "id": "38f043c9-5bfb-46b9-ac19-4ed843d4b2c6",
   "metadata": {
    "tags": []
   },
   "outputs": [
    {
     "name": "stdout",
     "output_type": "stream",
     "text": [
      "['1', 'treat', '20', '100']\n",
      "['2', 'munch', '10', '150']\n",
      "['3', 'perk', '15', 196]\n",
      "['4', 'gems', '30', '150']\n"
     ]
    }
   ],
   "source": [
    "for i in updated_product_lst:\n",
    "    print (i)"
   ]
  },
  {
   "cell_type": "code",
   "execution_count": 60,
   "id": "e10c8aa3-006f-4187-b6d6-daf55813705a",
   "metadata": {
    "tags": []
   },
   "outputs": [
    {
     "name": "stdout",
     "output_type": "stream",
     "text": [
      "1,treat,20,100\n",
      "\n",
      "2,munch,10,150\n",
      "\n",
      "3,perk,15,197\n",
      "\n",
      "4,gems,30,150\n",
      "\n"
     ]
    }
   ],
   "source": [
    "for i in updated_product_lst:\n",
    "    prod = i[0] + \",\" + i[1] + \",\" + i[2] + \",\" + i[3] +'\\n'\n",
    "    print (prod)"
   ]
  },
  {
   "cell_type": "markdown",
   "id": "5f9ba47c-abd1-4223-a131-f2414a70ec41",
   "metadata": {
    "tags": []
   },
   "source": [
    "## Updating the Original Inventory\n"
   ]
  },
  {
   "cell_type": "code",
   "execution_count": 66,
   "id": "40840e9c-c3bf-417c-84d8-29a432301660",
   "metadata": {
    "tags": []
   },
   "outputs": [],
   "source": [
    "fd = open('Inventory.txt', 'w')\n",
    "\n",
    "for i in updated_product_lst:\n",
    "    prod = i[0] + \",\" + i[1] + \",\" + i[2] + \",\" + i[3] +'\\n'\n",
    "    fd.write(prod)\n",
    "    \n",
    "fd.close()"
   ]
  },
  {
   "cell_type": "code",
   "execution_count": 70,
   "id": "10fb6eaa-ae50-4188-8129-a227460c7856",
   "metadata": {
    "tags": []
   },
   "outputs": [
    {
     "name": "stdout",
     "output_type": "stream",
     "text": [
      "1,treat,20,100\n",
      "2,munch,10,150\n",
      "3,perk,15,197\n",
      "4,gems,30,150\n",
      "\n"
     ]
    }
   ],
   "source": [
    "fd = open('Inventory.txt', 'r')\n",
    "txt = fd.read() \n",
    "print(txt)"
   ]
  },
  {
   "cell_type": "markdown",
   "id": "226e0d38-f6c4-4840-a657-70a194e03c1b",
   "metadata": {},
   "source": [
    "## Program to fetch the data from inventory, generate bill amount and update the stock details."
   ]
  },
  {
   "cell_type": "code",
   "execution_count": 75,
   "id": "76686a1c-5d4d-4d2e-9ff7-1e0715eaf567",
   "metadata": {
    "tags": []
   },
   "outputs": [
    {
     "name": "stdin",
     "output_type": "stream",
     "text": [
      "Enter the Product ID:  3\n",
      "Enter the Product Quantity:  4\n"
     ]
    },
    {
     "name": "stdout",
     "output_type": "stream",
     "text": [
      "--------------------------------------\n",
      "Product Name       : perk\n",
      "Product Price      : 15\n",
      "Product Quantity   : 4\n",
      "--------------------------------------\n",
      "Bill Amount        : 60\n",
      "--------------------------------------\n"
     ]
    }
   ],
   "source": [
    "ui_prod_id = input(\"Enter the Product ID: \")\n",
    "ui_prod_qn = input(\"Enter the Product Quantity: \")\n",
    "\n",
    "updated_product_lst = []\n",
    "\n",
    "for product in products:\n",
    "    prod_details = product.split(',')\n",
    "    \n",
    "    if (prod_details[0] == ui_prod_id):\n",
    "        print(\"--------------------------------------\")\n",
    "        print(\"Product Name       :\", prod_details[1])\n",
    "        print(\"Product Price      :\", prod_details[2])\n",
    "        print(\"Product Quantity   :\", ui_prod_qn)\n",
    "        print(\"--------------------------------------\")\n",
    "        print(\"Bill Amount        :\", (int(ui_prod_qn) * int(prod_details[2])))\n",
    "        print(\"--------------------------------------\")\n",
    "        \n",
    "        prod_details[3] = str(int(prod_details[3]) - int(ui_prod_qn))\n",
    "        \n",
    "    updated_product_lst.append(prod_details)\n",
    "    \n",
    "fd = open('Inventory.txt', 'w')\n",
    "\n",
    "for i in updated_product_lst:\n",
    "    prod = i[0] + \",\" + i[1] + \",\" + i[2] + \",\" + i[3] +'\\n'\n",
    "    fd.write(prod)\n",
    "    \n",
    "fd.close()"
   ]
  },
  {
   "cell_type": "code",
   "execution_count": 79,
   "id": "0a373128-ece3-4e1e-8df9-8c7959530181",
   "metadata": {
    "tags": []
   },
   "outputs": [
    {
     "name": "stdout",
     "output_type": "stream",
     "text": [
      "1,treat,20,100\n",
      "2,munch,10,150\n",
      "3,perk,15,196\n",
      "4,gems,30,150\n",
      "\n"
     ]
    }
   ],
   "source": [
    "fd = open('Inventory.txt', 'r')\n",
    "print(fd.read())"
   ]
  },
  {
   "cell_type": "code",
   "execution_count": null,
   "id": "589a53ab-e995-4407-aed9-2eb1a48f2703",
   "metadata": {},
   "outputs": [],
   "source": []
  }
 ],
 "metadata": {
  "kernelspec": {
   "display_name": "Python 3 (ipykernel)",
   "language": "python",
   "name": "python3"
  },
  "language_info": {
   "codemirror_mode": {
    "name": "ipython",
    "version": 3
   },
   "file_extension": ".py",
   "mimetype": "text/x-python",
   "name": "python",
   "nbconvert_exporter": "python",
   "pygments_lexer": "ipython3",
   "version": "3.11.7"
  }
 },
 "nbformat": 4,
 "nbformat_minor": 5
}
